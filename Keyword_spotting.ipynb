{
 "cells": [
  {
   "attachments": {},
   "cell_type": "markdown",
   "metadata": {
    "colab_type": "text",
    "id": "hTrNWNHLyaqF"
   },
   "source": [
    "# Keyword Spotting\n",
    "This project uses RNN model with Attention layer to train our dataset (Google Speech Commands version 2)"
   ]
  },
  {
   "cell_type": "code",
   "execution_count": 2,
   "metadata": {
    "colab": {},
    "colab_type": "code",
    "id": "8zJv_ttsyaqJ"
   },
   "outputs": [],
   "source": [
    "# imports\n",
    "\n",
    "%load_ext autoreload\n",
    "%autoreload 2\n",
    "\n",
    "import matplotlib\n",
    "import numpy as np\n",
    "import matplotlib.pyplot as plt\n",
    "%matplotlib inline  \n",
    "\n",
    "import DBDownloader\n",
    "import Generator\n",
    "import Models\n",
    "import audioTools\n",
    "\n",
    "from tensorflow.keras.models import Sequential\n",
    "from tensorflow.keras import layers as L\n",
    "from tensorflow.keras import Model\n",
    "\n",
    "import librosa\n",
    "\n",
    "from sklearn.metrics import confusion_matrix"
   ]
  },
  {
   "cell_type": "code",
   "execution_count": 5,
   "metadata": {},
   "outputs": [
    {
     "data": {
      "text/plain": [
       "TensorShape([2, 125, 513])"
      ]
     },
     "execution_count": 5,
     "metadata": {},
     "output_type": "execute_result"
    }
   ],
   "source": [
    "# Setting up the data\n",
    "gscInfo, nCategs = DBDownloader.SetUpGoogleSpeechCmd()"
   ]
  },
  {
   "cell_type": "markdown",
   "metadata": {
    "colab_type": "text",
    "id": "tzE5hypbyaqV"
   },
   "source": [
    "We should have 4 datasets, each with file names 'files' and their categories 'labels' in a dict."
   ]
  },
  {
   "attachments": {},
   "cell_type": "markdown",
   "metadata": {
    "colab_type": "text",
    "id": "kr5bibxhyaqa"
   },
   "source": [
    "# Speech Data Generator\n",
    "\n",
    "To allocate the data dynamically we use Keras Generator"
   ]
  },
  {
   "cell_type": "code",
   "execution_count": 8,
   "metadata": {
    "colab": {
     "base_uri": "https://localhost:8080/",
     "height": 34
    },
    "colab_type": "code",
    "id": "AXGWLGsGyaqc",
    "outputId": "ba82c9ba-6573-44f7-9cc6-6d0707add8ec"
   },
   "outputs": [
    {
     "data": {
      "text/plain": [
       "311"
      ]
     },
     "execution_count": 8,
     "metadata": {},
     "output_type": "execute_result"
    }
   ],
   "source": [
    "sr = 16000 \n",
    "iLen = 16000\n",
    "trainGen, valGen, testGen, testRGen = Generator.setUpDB(gscInfo)"
   ]
  },
  {
   "attachments": {},
   "cell_type": "markdown",
   "metadata": {
    "colab_type": "text",
    "id": "suRQj5Dayaq5"
   },
   "source": [
    "# The Model"
   ]
  },
  {
   "cell_type": "code",
   "execution_count": 23,
   "metadata": {
    "colab": {},
    "colab_type": "code",
    "id": "uH8Aa4-gyarI"
   },
   "outputs": [],
   "source": [
    "model = Models.createModel(nCategs, sr)\n",
    "# model.load_weights('attRNN-weights.h5')\n",
    "model, results = Models.trainAndSave(nCategs, sr, trainGen, valGen, model)"
   ]
  },
  {
   "cell_type": "code",
   "execution_count": 25,
   "metadata": {
    "colab": {
     "base_uri": "https://localhost:8080/",
     "height": 573
    },
    "colab_type": "code",
    "id": "KGaItJhiyarN",
    "outputId": "1d7e3b55-f39f-465d-9f4f-898bb002b917"
   },
   "outputs": [
    {
     "data": {
      "image/png": "[encoded data removed]",
      "text/plain": [
       "<Figure size 432x288 with 1 Axes>"
      ]
     },
     "metadata": {
      "needs_background": "light"
     },
     "output_type": "display_data"
    },
    {
     "data": {
      "image/png": "[encoded data removed]",
      "text/plain": [
       "<Figure size 432x288 with 1 Axes>"
      ]
     },
     "metadata": {
      "needs_background": "light"
     },
     "output_type": "display_data"
    }
   ],
   "source": [
    "audioTools.plotCatAcc(results)\n",
    "audioTools.plotLoss(results)"
   ]
  },
  {
   "cell_type": "code",
   "execution_count": 30,
   "metadata": {
    "colab": {
     "base_uri": "https://localhost:8080/",
     "height": 102
    },
    "colab_type": "code",
    "id": "O_R8ga27yarS",
    "outputId": "7d7a8a8f-c920-4013-e5ce-82b03b658606"
   },
   "outputs": [
    {
     "name": "stdout",
     "output_type": "stream",
     "text": [
      "Evaluation scores: \n",
      "Metrics: ['loss', 'sparse_categorical_accuracy'] \n",
      "Train: [0.030799511820077896, 0.9913240075111389] \n",
      "Validation: [0.25848108530044556, 0.9480506181716919] \n",
      "Test: [0.2578895092010498, 0.9421172142028809]\n"
     ]
    }
   ],
   "source": [
    "#read all test data\n",
    "x_test, y_test = testGen.__getitem__(0)\n",
    "\n",
    "valEval = model.evaluate(valGen, use_multiprocessing=False, workers=4,verbose=0)\n",
    "trainEval = model.evaluate(trainGen, use_multiprocessing=False, workers=4,verbose=0)\n",
    "testEval = model.evaluate(x_test, y_test, verbose=0)\n",
    "print('Evaluation scores: \\nMetrics: {} \\nTrain: {} \\nValidation: {} \\nTest: {}'.format(model.metrics_names, trainEval, valEval, testEval) )"
   ]
  },
  {
   "attachments": {},
   "cell_type": "markdown",
   "metadata": {
    "colab_type": "text",
    "id": "kbYaUxhfaH92"
   },
   "source": [
    "## Evaluation and Plots"
   ]
  },
  {
   "cell_type": "code",
   "execution_count": 32,
   "metadata": {
    "colab": {},
    "colab_type": "code",
    "id": "YaqNVpXjkhJA"
   },
   "outputs": [],
   "source": [
    "attSpeechModel = Model(inputs=model.input, outputs=[model.get_layer('output').output, model.get_layer('attSoftmax').output, model.get_layer('tf.expand_dims').output])\n",
    "\n",
    "audios, classes = valGen.__getitem__(3)\n",
    "\n",
    "outs, attW, specs = attSpeechModel.predict(audios)\n",
    "\n",
    "np.argmax(outs,axis=1)\n",
    "\n",
    "imgHeight = 2\n",
    "idAudio = 8\n",
    "\n",
    "y_pred = model.predict(x_test, verbose=1)\n",
    "cm = confusion_matrix(y_test, np.argmax(y_pred,1))\n",
    "\n",
    "classes = ['nine', 'yes', 'no', 'up', 'down', 'left', 'right', 'on', 'off', 'stop', 'go',\n",
    "           'zero', 'one', 'two', 'three', 'four', 'five', 'six', \n",
    "           'seven',  'eight', 'backward', 'bed', 'bird', 'cat', 'dog',\n",
    "           'follow', 'forward', 'happy', 'house', 'learn', 'marvin', 'sheila', 'tree',\n",
    "           'visual', 'wow']\n",
    "\n",
    "audioTools.plotRawWav(audios[idAudio], imgHeight)\n",
    "\n",
    "audioTools.plotAttW(attW[idAudio], imgHeight)\n",
    "\n",
    "audioTools.plotSpecVis(specs[idAudio,:,:,0].T, imgHeight)\n",
    "\n",
    "audioTools.plotConfusionMatrix(cm, classes, normalize=False)"
   ]
  },
  {
   "attachments": {},
   "cell_type": "markdown",
   "metadata": {
    "colab_type": "text",
    "id": "YGsYylzrq9P5"
   },
   "source": [
    "# Save the model"
   ]
  },
  {
   "cell_type": "code",
   "execution_count": 47,
   "metadata": {},
   "outputs": [
    {
     "name": "stderr",
     "output_type": "stream",
     "text": [
      "WARNING:absl:Found untraced functions such as _jit_compiled_convolution_op, _jit_compiled_convolution_op, lstm_cell_7_layer_call_fn, lstm_cell_7_layer_call_and_return_conditional_losses, lstm_cell_8_layer_call_fn while saving (showing 5 of 10). These functions will not be directly callable after loading.\n"
     ]
    },
    {
     "name": "stdout",
     "output_type": "stream",
     "text": [
      "INFO:tensorflow:Assets written to: model-KWS-attRNN/assets\n"
     ]
    },
    {
     "name": "stderr",
     "output_type": "stream",
     "text": [
      "INFO:tensorflow:Assets written to: model-KWS-attRNN/assets\n"
     ]
    }
   ],
   "source": [
    "model_16000 = Models.AttRNNModel(nCategs, samplingrate = sr, inputLength = None)\n",
    "model_16000.load_weights('attRNN-weights.h5')\n",
    "\n",
    "tf.saved_model.save(model_16000, 'KWS-attRNN')\n",
    "\n",
    "# model_16000 = tf.saved_model.load('KWS-attRNN')\n",
    "\n",
    "# Convert the model\n",
    "converter = tf.lite.TFLiteConverter.from_saved_model('KWS-attRNN') # path to the SavedModel directory\n",
    "\n",
    "converter.target_spec.supported_ops = [tf.lite.OpsSet.TFLITE_BUILTINS, tf.lite.OpsSet.SELECT_TF_OPS]\n",
    "converter._experimental_lower_tensor_list_ops = False\n",
    "\n",
    "tflite_model = converter.convert()\n",
    "\n",
    "# Save the model.\n",
    "with open('KWS-attRNN.tflite', 'wb') as f:\n",
    "    f.write(tflite_model)"
   ]
  }
 ],
 "metadata": {
  "accelerator": "GPU",
  "colab": {
   "collapsed_sections": [],
   "name": "Speech_Recog_Demo.ipynb",
   "provenance": []
  },
  "instance_type": "ml.g4dn.xlarge",
  "kernelspec": {
   "display_name": "Python 3 (ipykernel)",
   "language": "python",
   "name": "python3"
  },
  "language_info": {
   "codemirror_mode": {
    "name": "ipython",
    "version": 3
   },
   "file_extension": ".py",
   "mimetype": "text/x-python",
   "name": "python",
   "nbconvert_exporter": "python",
   "pygments_lexer": "ipython3",
   "version": "3.11.2"
  }
 },
 "nbformat": 4,
 "nbformat_minor": 4
}
